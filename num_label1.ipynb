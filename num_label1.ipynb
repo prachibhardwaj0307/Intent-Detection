{
 "cells": [
  {
   "cell_type": "code",
   "execution_count": 1,
   "id": "ce401cea-ed32-4c13-a5f7-8917c424ff07",
   "metadata": {},
   "outputs": [
    {
     "name": "stderr",
     "output_type": "stream",
     "text": [
      "/Library/Frameworks/Python.framework/Versions/3.13/lib/python3.13/site-packages/tqdm/auto.py:21: TqdmWarning: IProgress not found. Please update jupyter and ipywidgets. See https://ipywidgets.readthedocs.io/en/stable/user_install.html\n",
      "  from .autonotebook import tqdm as notebook_tqdm\n"
     ]
    }
   ],
   "source": [
    "import pandas as pd\n",
    "import torch\n",
    "from torch.utils.data import Dataset, DataLoader\n",
    "from transformers import BertTokenizer, BertForSequenceClassification, Trainer, TrainingArguments\n",
    "from sklearn.model_selection import train_test_split\n",
    "from sklearn.metrics import accuracy_score, precision_recall_fscore_support, precision_score, recall_score\n",
    "import numpy as np\n",
    "import matplotlib.pyplot as plt\n",
    "import numpy as np\n",
    "import matplotlib.pyplot as plt\n",
    "import matplotlib.pyplot as plt"
   ]
  },
  {
   "cell_type": "code",
   "execution_count": 2,
   "id": "cc9a2f8e-3883-4907-a6ce-b1aa5bfe2f50",
   "metadata": {},
   "outputs": [],
   "source": [
    "def load_and_prepare_data():\n",
    "    \"\"\"Load and prepare training data with proper class distribution analysis\"\"\"\n",
    "    print(\"📁 Loading training dataset...\")\n",
    "    \n",
    "    # Load training data\n",
    "    df = pd.read_csv(\"training_dataset.csv\")\n",
    "    df[\"label\"] = df[\"intent\"].apply(lambda x: 1 if x.strip().lower() == \"people\" else 0)\n",
    "    \n",
    "    # Check class distribution\n",
    "    print(\"\\n📊 Class distribution analysis:\")\n",
    "    print(df[\"label\"].value_counts())\n",
    "    print(f\"Class balance: {df['label'].mean():.2%} positive class\")\n",
    "    \n",
    "    # Split with stratification to ensure balanced train/test sets\n",
    "    train_texts, val_texts, train_labels, val_labels = train_test_split(\n",
    "        df[\"query\"].tolist(), \n",
    "        df[\"label\"].tolist(), \n",
    "        test_size=0.2, \n",
    "        random_state=42,\n",
    "        stratify=df[\"label\"].tolist()\n",
    "    )\n",
    "    \n",
    "    print(f\"✅ Data split complete: {len(train_texts)} training, {len(val_texts)} validation samples\")\n",
    "    \n",
    "    return train_texts, val_texts, train_labels, val_labels\n"
   ]
  },
  {
   "cell_type": "code",
   "execution_count": 3,
   "id": "38bec978-c11e-4f3c-958b-7cbdc5cf662f",
   "metadata": {},
   "outputs": [],
   "source": [
    "class QueryDataset(Dataset):\n",
    "    \"\"\"Custom dataset for BERT input formatting\"\"\"\n",
    "    def __init__(self, encodings, labels):\n",
    "        self.encodings = encodings\n",
    "        self.labels = labels\n",
    "    \n",
    "    def __len__(self):\n",
    "        return len(self.labels)\n",
    "    \n",
    "    def __getitem__(self, idx):\n",
    "        item = {key: torch.tensor(val[idx]) for key, val in self.encodings.items()}\n",
    "        item[\"labels\"] = torch.tensor(float(self.labels[idx]), dtype=torch.float)\n",
    "        return item\n"
   ]
  },
  {
   "cell_type": "code",
   "execution_count": 4,
   "id": "b4cd7b56-4d24-43d5-8719-ada55a406d2e",
   "metadata": {},
   "outputs": [],
   "source": [
    "def freeze_bert_layers(model):\n",
    "    \"\"\"\n",
    "    Freeze BERT layers except last 2 encoder layers and classifier head\n",
    "    This reduces training time while maintaining model performance\n",
    "    \"\"\"\n",
    "    print(\"\\n🔧 Applying layer freezing strategy...\")\n",
    "    \n",
    "    for param in model.bert.parameters():\n",
    "        param.requires_grad = False\n",
    "    \n",
    "    num_layers = len(model.bert.encoder.layer)\n",
    "    for layer in model.bert.encoder.layer[-2:]:\n",
    "        for param in layer.parameters():\n",
    "            param.requires_grad = True\n",
    "    \n",
    "    for param in model.classifier.parameters():\n",
    "        param.requires_grad = True\n",
    "    \n",
    "    trainable_params = sum(p.numel() for p in model.parameters() if p.requires_grad)\n",
    "    total_params = sum(p.numel() for p in model.parameters())\n",
    "    \n",
    "    print(f\"🔒 Frozen layers: {num_layers - 2} encoder layers + embeddings\")\n",
    "    print(f\"🔓 Trainable layers: Last 2 encoder layers + classifier head\")\n",
    "    print(f\"📊 Trainable parameters: {trainable_params:,} / {total_params:,} ({trainable_params/total_params:.1%})\")\n",
    "    \n",
    "    return model\n"
   ]
  },
  {
   "cell_type": "code",
   "execution_count": 5,
   "id": "2ca006e9-9bb9-4988-b304-87bfe8845bc3",
   "metadata": {},
   "outputs": [],
   "source": [
    "def compute_metrics(eval_pred):\n",
    "    \"\"\"Compute accuracy, precision, recall, and F1-score for evaluation\"\"\"\n",
    "    logits, labels = eval_pred\n",
    "    predictions = (torch.sigmoid(torch.tensor(logits.flatten())) > 0.6).int().numpy()\n",
    "    labels = labels.astype(int)\n",
    "    \n",
    "    acc = accuracy_score(labels, predictions)\n",
    "    \n",
    "    if len(np.unique(predictions)) == 1:\n",
    "        print(f\"⚠️  Warning: All predictions are class {predictions[0]}\")\n",
    "        if predictions[0] == 1:\n",
    "            precision, recall, f1 = 1.0, acc, 2*acc/(1+acc) if acc > 0 else 0.0\n",
    "        else:\n",
    "            precision, recall, f1 = 0.0, 0.0, 0.0\n",
    "    else:\n",
    "        precision, recall, f1, _ = precision_recall_fscore_support(labels, predictions, average=\"binary\")\n",
    "    \n",
    "    return {\"accuracy\": acc, \"precision\": precision, \"recall\": recall, \"f1\": f1}\n"
   ]
  },
  {
   "cell_type": "code",
   "execution_count": 6,
   "id": "bb9a6b80-eaad-4b9f-ace8-6caf95462352",
   "metadata": {},
   "outputs": [],
   "source": [
    "class CustomTrainer(Trainer):\n",
    "    \"\"\"Custom trainer with BCE loss for binary classification\"\"\"\n",
    "    def compute_loss(self, model, inputs, return_outputs=False, num_items_in_batch=None):\n",
    "        labels = inputs.pop(\"labels\")\n",
    "        outputs = model(**inputs)\n",
    "        logits = outputs.get('logits')\n",
    "        \n",
    "        logits = logits.view(-1)\n",
    "        labels = labels.view(-1)\n",
    "        \n",
    "        loss_fct = torch.nn.BCEWithLogitsLoss()\n",
    "        loss = loss_fct(logits, labels)\n",
    "        \n",
    "        if num_items_in_batch is not None:\n",
    "            loss = loss * num_items_in_batch / len(labels)\n",
    "        \n",
    "        return (loss, outputs) if return_outputs else loss\n"
   ]
  },
  {
   "cell_type": "code",
   "execution_count": 7,
   "id": "d1bac234-93d9-4ba3-8be2-012a5b511b20",
   "metadata": {},
   "outputs": [],
   "source": [
    "def test_on_dataset(model, tokenizer, csv_file, output_file, description=\"\"):\n",
    "    \"\"\"Test model on a given dataset and save results\"\"\"\n",
    "    print(f\"\\n🧪 Testing model on {csv_file}...\")\n",
    "    \n",
    "    df = pd.read_csv(csv_file)\n",
    "    queries = df[\"query\"].tolist()\n",
    "    true_labels = [1 if lbl.strip().lower() == \"people\" else 0 for lbl in df[\"intent\"].tolist()]\n",
    "    \n",
    "    pred_labels = []\n",
    "    pred_probs = []\n",
    "    device = torch.device(\"cpu\")\n",
    "    \n",
    "    for query in queries:\n",
    "        inputs = tokenizer(query, return_tensors=\"pt\", truncation=True, padding=True, max_length=64).to(device)\n",
    "        \n",
    "        with torch.no_grad():\n",
    "            outputs = model(**inputs)\n",
    "            prob = torch.sigmoid(outputs.logits).item()\n",
    "            pred_label = 1 if prob > 0.6 else 0\n",
    "        \n",
    "        pred_labels.append(pred_label)\n",
    "        pred_probs.append(prob)\n",
    "    \n",
    "    acc = accuracy_score(true_labels, pred_labels)\n",
    "    precision, recall, f1, _ = precision_recall_fscore_support(true_labels, pred_labels, average=\"binary\")\n",
    "    \n",
    "    print(f\"📊 {description} Results:\")\n",
    "    print(f\"Accuracy : {acc:.4f}\")\n",
    "    print(f\"Precision: {precision:.4f}\")\n",
    "    print(f\"Recall   : {recall:.4f}\")\n",
    "    print(f\"F1-score : {f1:.4f}\")\n",
    "    \n",
    "    results_df = pd.DataFrame({\n",
    "        \"query\": queries,\n",
    "        \"true_intent\": [\"people\" if l == 1 else \"search\" for l in true_labels],\n",
    "        \"predicted_intent\": [\"people\" if p == 1 else \"search\" for p in pred_labels],\n",
    "        \"probability\": [round(p, 3) for p in pred_probs],\n",
    "        \"correct\": [1 if pred_labels[i] == true_labels[i] else 0 for i in range(len(pred_labels))]\n",
    "    })\n",
    "    \n",
    "    results_df.to_csv(output_file, index=False)\n",
    "    print(f\"✅ Results saved to {output_file}\")\n",
    "    \n",
    "    return acc, precision, recall, f1\n"
   ]
  },
  {
   "cell_type": "code",
   "execution_count": 8,
   "id": "a6f19778-4b5b-420a-b7c7-41759bce77f8",
   "metadata": {},
   "outputs": [],
   "source": [
    "def test_on_validation_split(model, tokenizer, train_texts, val_texts, train_labels, val_labels):\n",
    "    \"\"\"Test model on the validation split from training data\"\"\"\n",
    "    print(f\"\\n🔬 Testing on validation split (20% of training data)...\")\n",
    "    \n",
    "    pred_labels = []\n",
    "    pred_probs = []\n",
    "    device = torch.device(\"cpu\")\n",
    "    \n",
    "    for query in val_texts:\n",
    "        inputs = tokenizer(query, return_tensors=\"pt\", truncation=True, padding=True, max_length=64).to(device)\n",
    "        \n",
    "        with torch.no_grad():\n",
    "            outputs = model(**inputs)\n",
    "            prob = torch.sigmoid(outputs.logits).item()\n",
    "            pred_label = 1 if prob > 0.6 else 0\n",
    "        \n",
    "        pred_labels.append(pred_label)\n",
    "        pred_probs.append(prob)\n",
    "    \n",
    "    acc = accuracy_score(val_labels, pred_labels)\n",
    "    precision, recall, f1, _ = precision_recall_fscore_support(val_labels, pred_labels, average=\"binary\")\n",
    "    \n",
    "    print(f\"📊 Validation Split Results:\")\n",
    "    print(f\"Accuracy : {acc:.4f}\")\n",
    "    print(f\"Precision: {precision:.4f}\")\n",
    "    print(f\"Recall   : {recall:.4f}\")\n",
    "    print(f\"F1-score : {f1:.4f}\")\n",
    "    \n",
    "    val_df = pd.DataFrame({\n",
    "        \"query\": val_texts,\n",
    "        \"true_intent\": [\"people\" if l == 1 else \"search\" for l in val_labels],\n",
    "        \"predicted_intent\": [\"people\" if p == 1 else \"search\" for p in pred_labels],\n",
    "        \"probability\": pred_probs\n",
    "    })\n",
    "    \n",
    "    val_df.to_csv(\"validation_results.csv\", index=False)\n",
    "    print(\"✅ Validation results saved to validation_results.csv\")\n",
    "    \n",
    "    return acc, precision, recall, f1\n"
   ]
  },
  {
   "cell_type": "code",
   "execution_count": 9,
   "id": "96bff943-f914-418b-9a1a-e0c7ce061c25",
   "metadata": {},
   "outputs": [
    {
     "name": "stdout",
     "output_type": "stream",
     "text": [
      "🚀 Starting BERT Intent Classification Pipeline\n",
      "\n",
      "📁 Loading training dataset...\n",
      "\n",
      "📊 Class distribution analysis:\n",
      "label\n",
      "1    1086\n",
      "0     828\n",
      "Name: count, dtype: int64\n",
      "Class balance: 56.74% positive class\n",
      "✅ Data split complete: 1531 training, 383 validation samples\n",
      "\n",
      "🔤 Initializing BERT tokenizer...\n"
     ]
    },
    {
     "name": "stderr",
     "output_type": "stream",
     "text": [
      "Some weights of BertForSequenceClassification were not initialized from the model checkpoint at bert-base-uncased and are newly initialized: ['classifier.bias', 'classifier.weight']\n",
      "You should probably TRAIN this model on a down-stream task to be able to use it for predictions and inference.\n"
     ]
    },
    {
     "name": "stdout",
     "output_type": "stream",
     "text": [
      "\n",
      "🤖 Initializing BERT model...\n"
     ]
    }
   ],
   "source": [
    "\"\"\"Main execution pipeline\"\"\"\n",
    "print(\"🚀 Starting BERT Intent Classification Pipeline\\n\")\n",
    "    \n",
    "train_texts, val_texts, train_labels, val_labels = load_and_prepare_data()\n",
    "    \n",
    "print(\"\\n🔤 Initializing BERT tokenizer...\")\n",
    "tokenizer = BertTokenizer.from_pretrained(\"bert-base-uncased\")\n",
    "    \n",
    "train_encodings = tokenizer(train_texts, truncation=True, padding=True, max_length=64)\n",
    "val_encodings = tokenizer(val_texts, truncation=True, padding=True, max_length=64)\n",
    "    \n",
    "train_dataset = QueryDataset(train_encodings, train_labels)\n",
    "val_dataset = QueryDataset(val_encodings, val_labels)\n",
    "    \n",
    "print(\"\\n🤖 Initializing BERT model...\")\n",
    "model = BertForSequenceClassification.from_pretrained(\n",
    "    \"bert-base-uncased\",\n",
    "    num_labels=1,\n",
    "    problem_type=\"single_label_classification\"\n",
    ")"
   ]
  },
  {
   "cell_type": "code",
   "execution_count": 10,
   "id": "d9e49042-7c80-4a60-b39b-07dfea2e7129",
   "metadata": {},
   "outputs": [
    {
     "name": "stdout",
     "output_type": "stream",
     "text": [
      "\n",
      "🔧 Applying layer freezing strategy...\n",
      "🔒 Frozen layers: 10 encoder layers + embeddings\n",
      "🔓 Trainable layers: Last 2 encoder layers + classifier head\n",
      "📊 Trainable parameters: 14,176,513 / 109,483,009 (12.9%)\n"
     ]
    }
   ],
   "source": [
    "model = freeze_bert_layers(model)"
   ]
  },
  {
   "cell_type": "code",
   "execution_count": 11,
   "id": "3b40aab3-59a6-4eee-b945-8375be61a026",
   "metadata": {},
   "outputs": [],
   "source": [
    "training_args = TrainingArguments(\n",
    "    output_dir=\"./results\",\n",
    "    learning_rate=5e-5,\n",
    "    per_device_train_batch_size=16,\n",
    "    per_device_eval_batch_size=16,\n",
    "    num_train_epochs=3,\n",
    "    weight_decay=0.01,\n",
    "    logging_dir='./logs',\n",
    "    eval_strategy=\"steps\",\n",
    "    eval_steps=100,\n",
    "    logging_steps=50,\n",
    "    save_strategy=\"steps\",\n",
    "    save_steps=100,\n",
    "    save_total_limit=2,\n",
    "    load_best_model_at_end=True,\n",
    "    metric_for_best_model=\"f1\",\n",
    "    greater_is_better=True,\n",
    "    warmup_steps=100,\n",
    "    report_to=None\n",
    ")"
   ]
  },
  {
   "cell_type": "code",
   "execution_count": 12,
   "id": "07219f22-697f-4609-b7f2-08ec980ec478",
   "metadata": {},
   "outputs": [
    {
     "name": "stderr",
     "output_type": "stream",
     "text": [
      "/var/folders/dz/ljw9ygcd3sz2n1nrcxs9dywh0000gq/T/ipykernel_48791/3635768468.py:2: FutureWarning: `tokenizer` is deprecated and will be removed in version 5.0.0 for `CustomTrainer.__init__`. Use `processing_class` instead.\n",
      "  trainer = CustomTrainer(\n"
     ]
    },
    {
     "name": "stdout",
     "output_type": "stream",
     "text": [
      "\n",
      "🎯 Setting up trainer...\n"
     ]
    }
   ],
   "source": [
    "print(\"\\n🎯 Setting up trainer...\")\n",
    "trainer = CustomTrainer(\n",
    "    model=model,\n",
    "    args=training_args,\n",
    "    train_dataset=train_dataset,\n",
    "    eval_dataset=val_dataset,\n",
    "    tokenizer=tokenizer,\n",
    "    compute_metrics=compute_metrics,\n",
    ")"
   ]
  },
  {
   "cell_type": "code",
   "execution_count": 13,
   "id": "0260cfcc-a041-4949-aacc-e7436545740d",
   "metadata": {},
   "outputs": [
    {
     "name": "stdout",
     "output_type": "stream",
     "text": [
      "\n",
      "🏋️‍♂️ Starting model training...\n"
     ]
    },
    {
     "name": "stderr",
     "output_type": "stream",
     "text": [
      "/Library/Frameworks/Python.framework/Versions/3.13/lib/python3.13/site-packages/torch/utils/data/dataloader.py:684: UserWarning: 'pin_memory' argument is set as true but not supported on MPS now, then device pinned memory won't be used.\n",
      "  warnings.warn(warn_msg)\n"
     ]
    },
    {
     "data": {
      "text/html": [
       "\n",
       "    <div>\n",
       "      \n",
       "      <progress value='288' max='288' style='width:300px; height:20px; vertical-align: middle;'></progress>\n",
       "      [288/288 00:25, Epoch 3/3]\n",
       "    </div>\n",
       "    <table border=\"1\" class=\"dataframe\">\n",
       "  <thead>\n",
       " <tr style=\"text-align: left;\">\n",
       "      <th>Step</th>\n",
       "      <th>Training Loss</th>\n",
       "      <th>Validation Loss</th>\n",
       "      <th>Accuracy</th>\n",
       "      <th>Precision</th>\n",
       "      <th>Recall</th>\n",
       "      <th>F1</th>\n",
       "    </tr>\n",
       "  </thead>\n",
       "  <tbody>\n",
       "    <tr>\n",
       "      <td>100</td>\n",
       "      <td>0.306400</td>\n",
       "      <td>0.097909</td>\n",
       "      <td>0.986945</td>\n",
       "      <td>1.000000</td>\n",
       "      <td>0.976959</td>\n",
       "      <td>0.988345</td>\n",
       "    </tr>\n",
       "    <tr>\n",
       "      <td>200</td>\n",
       "      <td>0.065400</td>\n",
       "      <td>0.035772</td>\n",
       "      <td>0.992167</td>\n",
       "      <td>1.000000</td>\n",
       "      <td>0.986175</td>\n",
       "      <td>0.993039</td>\n",
       "    </tr>\n",
       "  </tbody>\n",
       "</table><p>"
      ],
      "text/plain": [
       "<IPython.core.display.HTML object>"
      ]
     },
     "metadata": {},
     "output_type": "display_data"
    },
    {
     "name": "stderr",
     "output_type": "stream",
     "text": [
      "/Library/Frameworks/Python.framework/Versions/3.13/lib/python3.13/site-packages/torch/utils/data/dataloader.py:684: UserWarning: 'pin_memory' argument is set as true but not supported on MPS now, then device pinned memory won't be used.\n",
      "  warnings.warn(warn_msg)\n"
     ]
    },
    {
     "data": {
      "text/plain": [
       "TrainOutput(global_step=288, training_loss=0.20616060785121387, metrics={'train_runtime': 26.2981, 'train_samples_per_second': 174.651, 'train_steps_per_second': 10.951, 'total_flos': 77888909156454.0, 'train_loss': 0.20616060785121387, 'epoch': 3.0})"
      ]
     },
     "execution_count": 13,
     "metadata": {},
     "output_type": "execute_result"
    }
   ],
   "source": [
    "print(\"\\n🏋️‍♂️ Starting model training...\")\n",
    "trainer.train()"
   ]
  },
  {
   "cell_type": "code",
   "execution_count": 14,
   "id": "29546330-9e43-4be4-950b-b4a139a82c27",
   "metadata": {},
   "outputs": [
    {
     "name": "stdout",
     "output_type": "stream",
     "text": [
      "\n",
      "📈 Evaluating trained model...\n"
     ]
    },
    {
     "name": "stderr",
     "output_type": "stream",
     "text": [
      "/Library/Frameworks/Python.framework/Versions/3.13/lib/python3.13/site-packages/torch/utils/data/dataloader.py:684: UserWarning: 'pin_memory' argument is set as true but not supported on MPS now, then device pinned memory won't be used.\n",
      "  warnings.warn(warn_msg)\n"
     ]
    },
    {
     "data": {
      "text/html": [],
      "text/plain": [
       "<IPython.core.display.HTML object>"
      ]
     },
     "metadata": {},
     "output_type": "display_data"
    },
    {
     "name": "stdout",
     "output_type": "stream",
     "text": [
      "Final evaluation results: {'eval_loss': 0.035772357136011124, 'eval_accuracy': 0.9921671018276762, 'eval_precision': 1.0, 'eval_recall': 0.9861751152073732, 'eval_f1': 0.9930394431554525, 'eval_runtime': 1.3072, 'eval_samples_per_second': 292.992, 'eval_steps_per_second': 18.36, 'epoch': 3.0}\n"
     ]
    }
   ],
   "source": [
    "print(\"\\n📈 Evaluating trained model...\")\n",
    "eval_results = trainer.evaluate()\n",
    "print(\"Final evaluation results:\", eval_results)"
   ]
  },
  {
   "cell_type": "code",
   "execution_count": 15,
   "id": "b7187ae9-891b-4e55-8f00-737eeff0d8e3",
   "metadata": {},
   "outputs": [
    {
     "name": "stderr",
     "output_type": "stream",
     "text": [
      "/Library/Frameworks/Python.framework/Versions/3.13/lib/python3.13/site-packages/torch/utils/data/dataloader.py:684: UserWarning: 'pin_memory' argument is set as true but not supported on MPS now, then device pinned memory won't be used.\n",
      "  warnings.warn(warn_msg)\n"
     ]
    },
    {
     "name": "stdout",
     "output_type": "stream",
     "text": [
      "\n",
      "📊 Prediction distribution:\n",
      "1    214\n",
      "0    169\n",
      "Name: count, dtype: int64\n",
      "Prediction probabilities - Mean: 0.559, Std: 0.484\n",
      "Min prob: 0.010, Max prob: 0.992\n"
     ]
    }
   ],
   "source": [
    "predictions = trainer.predict(val_dataset)\n",
    "pred_probs = torch.sigmoid(torch.tensor(predictions.predictions.flatten()))\n",
    "pred_labels = (pred_probs > 0.5).int().numpy()\n",
    "print(\"\\n📊 Prediction distribution:\")\n",
    "print(pd.Series(pred_labels).value_counts())\n",
    "print(f\"Prediction probabilities - Mean: {pred_probs.mean():.3f}, Std: {pred_probs.std():.3f}\")\n",
    "print(f\"Min prob: {pred_probs.min():.3f}, Max prob: {pred_probs.max():.3f}\")"
   ]
  },
  {
   "cell_type": "code",
   "execution_count": 16,
   "id": "0a9a4fde-b90d-42bb-b3a7-797835624f5a",
   "metadata": {},
   "outputs": [
    {
     "name": "stdout",
     "output_type": "stream",
     "text": [
      "\n",
      "💾 Saving trained model...\n",
      "✅ Model and tokenizer saved to 'bert_intent_classifier' directory\n"
     ]
    }
   ],
   "source": [
    "print(\"\\n💾 Saving trained model...\")\n",
    "model.save_pretrained(\"bert_intent_classifier\")\n",
    "tokenizer.save_pretrained(\"bert_intent_classifier\")\n",
    "print(\"✅ Model and tokenizer saved to 'bert_intent_classifier' directory\")\n"
   ]
  },
  {
   "cell_type": "code",
   "execution_count": 17,
   "id": "44b4eba4-68f5-40df-8e99-07148e72d8ee",
   "metadata": {},
   "outputs": [
    {
     "name": "stdout",
     "output_type": "stream",
     "text": [
      "\n",
      "🔄 Reloading model for testing...\n"
     ]
    },
    {
     "data": {
      "text/plain": [
       "BertForSequenceClassification(\n",
       "  (bert): BertModel(\n",
       "    (embeddings): BertEmbeddings(\n",
       "      (word_embeddings): Embedding(30522, 768, padding_idx=0)\n",
       "      (position_embeddings): Embedding(512, 768)\n",
       "      (token_type_embeddings): Embedding(2, 768)\n",
       "      (LayerNorm): LayerNorm((768,), eps=1e-12, elementwise_affine=True)\n",
       "      (dropout): Dropout(p=0.1, inplace=False)\n",
       "    )\n",
       "    (encoder): BertEncoder(\n",
       "      (layer): ModuleList(\n",
       "        (0-11): 12 x BertLayer(\n",
       "          (attention): BertAttention(\n",
       "            (self): BertSdpaSelfAttention(\n",
       "              (query): Linear(in_features=768, out_features=768, bias=True)\n",
       "              (key): Linear(in_features=768, out_features=768, bias=True)\n",
       "              (value): Linear(in_features=768, out_features=768, bias=True)\n",
       "              (dropout): Dropout(p=0.1, inplace=False)\n",
       "            )\n",
       "            (output): BertSelfOutput(\n",
       "              (dense): Linear(in_features=768, out_features=768, bias=True)\n",
       "              (LayerNorm): LayerNorm((768,), eps=1e-12, elementwise_affine=True)\n",
       "              (dropout): Dropout(p=0.1, inplace=False)\n",
       "            )\n",
       "          )\n",
       "          (intermediate): BertIntermediate(\n",
       "            (dense): Linear(in_features=768, out_features=3072, bias=True)\n",
       "            (intermediate_act_fn): GELUActivation()\n",
       "          )\n",
       "          (output): BertOutput(\n",
       "            (dense): Linear(in_features=3072, out_features=768, bias=True)\n",
       "            (LayerNorm): LayerNorm((768,), eps=1e-12, elementwise_affine=True)\n",
       "            (dropout): Dropout(p=0.1, inplace=False)\n",
       "          )\n",
       "        )\n",
       "      )\n",
       "    )\n",
       "    (pooler): BertPooler(\n",
       "      (dense): Linear(in_features=768, out_features=768, bias=True)\n",
       "      (activation): Tanh()\n",
       "    )\n",
       "  )\n",
       "  (dropout): Dropout(p=0.1, inplace=False)\n",
       "  (classifier): Linear(in_features=768, out_features=1, bias=True)\n",
       ")"
      ]
     },
     "execution_count": 17,
     "metadata": {},
     "output_type": "execute_result"
    }
   ],
   "source": [
    "print(\"\\n🔄 Reloading model for testing...\")\n",
    "model_path = \"bert_intent_classifier\"\n",
    "tokenizer = BertTokenizer.from_pretrained(model_path)\n",
    "model = BertForSequenceClassification.from_pretrained(model_path)\n",
    "model.eval()"
   ]
  },
  {
   "cell_type": "code",
   "execution_count": 18,
   "id": "0f19ae4d-27c2-404c-b602-1911004c2aeb",
   "metadata": {},
   "outputs": [
    {
     "data": {
      "text/plain": [
       "BertForSequenceClassification(\n",
       "  (bert): BertModel(\n",
       "    (embeddings): BertEmbeddings(\n",
       "      (word_embeddings): Embedding(30522, 768, padding_idx=0)\n",
       "      (position_embeddings): Embedding(512, 768)\n",
       "      (token_type_embeddings): Embedding(2, 768)\n",
       "      (LayerNorm): LayerNorm((768,), eps=1e-12, elementwise_affine=True)\n",
       "      (dropout): Dropout(p=0.1, inplace=False)\n",
       "    )\n",
       "    (encoder): BertEncoder(\n",
       "      (layer): ModuleList(\n",
       "        (0-11): 12 x BertLayer(\n",
       "          (attention): BertAttention(\n",
       "            (self): BertSdpaSelfAttention(\n",
       "              (query): Linear(in_features=768, out_features=768, bias=True)\n",
       "              (key): Linear(in_features=768, out_features=768, bias=True)\n",
       "              (value): Linear(in_features=768, out_features=768, bias=True)\n",
       "              (dropout): Dropout(p=0.1, inplace=False)\n",
       "            )\n",
       "            (output): BertSelfOutput(\n",
       "              (dense): Linear(in_features=768, out_features=768, bias=True)\n",
       "              (LayerNorm): LayerNorm((768,), eps=1e-12, elementwise_affine=True)\n",
       "              (dropout): Dropout(p=0.1, inplace=False)\n",
       "            )\n",
       "          )\n",
       "          (intermediate): BertIntermediate(\n",
       "            (dense): Linear(in_features=768, out_features=3072, bias=True)\n",
       "            (intermediate_act_fn): GELUActivation()\n",
       "          )\n",
       "          (output): BertOutput(\n",
       "            (dense): Linear(in_features=3072, out_features=768, bias=True)\n",
       "            (LayerNorm): LayerNorm((768,), eps=1e-12, elementwise_affine=True)\n",
       "            (dropout): Dropout(p=0.1, inplace=False)\n",
       "          )\n",
       "        )\n",
       "      )\n",
       "    )\n",
       "    (pooler): BertPooler(\n",
       "      (dense): Linear(in_features=768, out_features=768, bias=True)\n",
       "      (activation): Tanh()\n",
       "    )\n",
       "  )\n",
       "  (dropout): Dropout(p=0.1, inplace=False)\n",
       "  (classifier): Linear(in_features=768, out_features=1, bias=True)\n",
       ")"
      ]
     },
     "execution_count": 18,
     "metadata": {},
     "output_type": "execute_result"
    }
   ],
   "source": [
    "device = torch.device(\"cpu\")\n",
    "model.to(device)"
   ]
  },
  {
   "cell_type": "code",
   "execution_count": 19,
   "id": "7fac1db4-0848-4a84-be80-0c9fafe5e3e6",
   "metadata": {},
   "outputs": [
    {
     "name": "stdout",
     "output_type": "stream",
     "text": [
      "\n",
      "🧪 Testing model on testing_dataset.csv...\n",
      "📊 External Test Dataset Results:\n",
      "Accuracy : 0.9518\n",
      "Precision: 0.8266\n",
      "Recall   : 0.8773\n",
      "F1-score : 0.8512\n",
      "✅ Results saved to external_test_results.csv\n"
     ]
    }
   ],
   "source": [
    "try:\n",
    "    test_on_dataset(\n",
    "        model, tokenizer, \n",
    "        \"testing_dataset.csv\", \n",
    "        \"external_test_results.csv\",\n",
    "        \"External Test Dataset\"\n",
    "    )\n",
    "except FileNotFoundError:\n",
    "    print(\"⚠️  testing_dataset.csv not found. Skipping external test.\")"
   ]
  },
  {
   "cell_type": "code",
   "execution_count": 20,
   "id": "49612118-d2d2-4b90-abda-49fbcd9312e9",
   "metadata": {},
   "outputs": [
    {
     "name": "stdout",
     "output_type": "stream",
     "text": [
      "\n",
      "🔬 Testing on validation split (20% of training data)...\n",
      "📊 Validation Split Results:\n",
      "Accuracy : 0.9922\n",
      "Precision: 1.0000\n",
      "Recall   : 0.9862\n",
      "F1-score : 0.9930\n",
      "✅ Validation results saved to validation_results.csv\n",
      "\n",
      "🎉 Pipeline completed successfully!\n",
      "\n",
      "Generated files:\n",
      "- bert_intent_classifier/ (trained model)\n",
      "- external_test_results.csv (if testing_dataset.csv exists)\n",
      "- validation_results.csv (validation split results)\n"
     ]
    }
   ],
   "source": [
    "test_on_validation_split(model, tokenizer, train_texts, val_texts, train_labels, val_labels)\n",
    "    \n",
    "print(\"\\n🎉 Pipeline completed successfully!\")\n",
    "print(\"\\nGenerated files:\")\n",
    "print(\"- bert_intent_classifier/ (trained model)\")\n",
    "print(\"- external_test_results.csv (if testing_dataset.csv exists)\")\n",
    "print(\"- validation_results.csv (validation split results)\")"
   ]
  },
  {
   "cell_type": "code",
   "execution_count": 21,
   "id": "5eb0281b-78df-4124-81ef-834d3903f1ee",
   "metadata": {},
   "outputs": [
    {
     "name": "stderr",
     "output_type": "stream",
     "text": [
      "/Library/Frameworks/Python.framework/Versions/3.13/lib/python3.13/site-packages/torch/utils/data/dataloader.py:684: UserWarning: 'pin_memory' argument is set as true but not supported on MPS now, then device pinned memory won't be used.\n",
      "  warnings.warn(warn_msg)\n"
     ]
    },
    {
     "data": {
      "text/html": [],
      "text/plain": [
       "<IPython.core.display.HTML object>"
      ]
     },
     "metadata": {},
     "output_type": "display_data"
    },
    {
     "data": {
      "image/png": "[encoded data removed]",
      "text/plain": [
       "<Figure size 1200x600 with 1 Axes>"
      ]
     },
     "metadata": {},
     "output_type": "display_data"
    }
   ],
   "source": [
    "\n",
    "predictions = trainer.predict(val_dataset)\n",
    "y_true = np.array(val_labels)  # already 0 for search, 1 for people\n",
    "y_prob = torch.sigmoid(torch.tensor(predictions.predictions.flatten())).numpy()\n",
    "\n",
    "thresholds = np.arange(0.01, 1.0, 0.01)\n",
    "precision_vals, recall_vals = [], []\n",
    "\n",
    "for t in thresholds:\n",
    "    y_pred = (y_prob >= t).astype(int)\n",
    "    precision_vals.append(precision_score(y_true, y_pred, zero_division=0))\n",
    "    recall_vals.append(recall_score(y_true, y_pred, zero_division=0))\n",
    "\n",
    "plt.figure(figsize=(12,6))\n",
    "plt.plot(thresholds, precision_vals, label=\"Precision\", color=\"blue\")\n",
    "plt.plot(thresholds, recall_vals, label=\"Recall\", color=\"green\")\n",
    "\n",
    "plt.xlabel(\"Threshold\")\n",
    "plt.ylabel(\"Score\")\n",
    "plt.title(\"Precision and Recall vs Threshold (People Class on Test Set)\")\n",
    "plt.legend()\n",
    "plt.grid(True)\n",
    "plt.tight_layout()\n",
    "plt.show()\n"
   ]
  },
  {
   "cell_type": "code",
   "execution_count": 22,
   "id": "b9357d02-bc7b-4830-944a-02ba59bade9e",
   "metadata": {},
   "outputs": [
    {
     "data": {
      "image/png": "[encoded data removed]",
      "text/plain": [
       "<Figure size 1000x600 with 1 Axes>"
      ]
     },
     "metadata": {},
     "output_type": "display_data"
    }
   ],
   "source": [
    "df = pd.read_csv(\"external_test_results.csv\")\n",
    "\n",
    "# Convert ground truth intent into binary (1=people, 0=search)\n",
    "y_true = df[\"true_intent\"].apply(lambda x: 1 if x.strip().lower() == \"people\" else 0).values\n",
    "y_prob = df[\"probability\"].values  # already saved as float in test1.csv\n",
    "\n",
    "\n",
    "thresholds = np.arange(0.01, 1.0, 0.01)\n",
    "precision_vals, recall_vals = [], []\n",
    "\n",
    "for t in thresholds:\n",
    "    y_pred = (y_prob >= t).astype(int)\n",
    "    precision_vals.append(precision_score(y_true, y_pred, zero_division=0))\n",
    "    recall_vals.append(recall_score(y_true, y_pred, zero_division=0))\n",
    "\n",
    "\n",
    "plt.figure(figsize=(10,6))\n",
    "plt.plot(thresholds, precision_vals, label=\"Precision\", color=\"blue\")\n",
    "plt.plot(thresholds, recall_vals, label=\"Recall\", color=\"green\")\n",
    "\n",
    "plt.xlabel(\"Threshold\")\n",
    "plt.ylabel(\"Score\")\n",
    "plt.title(\"Precision and Recall vs Threshold\")\n",
    "plt.legend()\n",
    "plt.grid(True)\n",
    "plt.tight_layout()\n",
    "plt.show()\n"
   ]
  },
  {
   "cell_type": "code",
   "execution_count": null,
   "id": "c2adf5e2-b0bd-450a-bd35-5dbf79be0296",
   "metadata": {},
   "outputs": [],
   "source": []
  }
 ],
 "metadata": {
  "kernelspec": {
   "display_name": "Python 3 (ipykernel)",
   "language": "python",
   "name": "python3"
  },
  "language_info": {
   "codemirror_mode": {
    "name": "ipython",
    "version": 3
   },
   "file_extension": ".py",
   "mimetype": "text/x-python",
   "name": "python",
   "nbconvert_exporter": "python",
   "pygments_lexer": "ipython3",
   "version": "3.13.7"
  }
 },
 "nbformat": 4,
 "nbformat_minor": 5
}
